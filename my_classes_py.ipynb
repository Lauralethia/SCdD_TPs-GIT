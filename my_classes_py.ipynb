{
  "nbformat": 4,
  "nbformat_minor": 0,
  "metadata": {
    "colab": {
      "name": "my_classes.py",
      "provenance": [],
      "include_colab_link": true
    },
    "kernelspec": {
      "name": "python3",
      "display_name": "Python 3"
    }
  },
  "cells": [
    {
      "cell_type": "markdown",
      "metadata": {
        "id": "view-in-github",
        "colab_type": "text"
      },
      "source": [
        "<a href=\"https://colab.research.google.com/github/Lauralethia/SCdD_TPs-GIT/blob/master/my_classes_py.ipynb\" target=\"_parent\"><img src=\"https://colab.research.google.com/assets/colab-badge.svg\" alt=\"Open In Colab\"/></a>"
      ]
    },
    {
      "cell_type": "markdown",
      "metadata": {
        "id": "yiJ_zJD8Q64T",
        "colab_type": "text"
      },
      "source": [
        "Definición de clases"
      ]
    },
    {
      "cell_type": "code",
      "metadata": {
        "id": "KNvN9FtvQ9Mp",
        "colab_type": "code",
        "colab": {}
      },
      "source": [
        "import torch\n",
        "from torch.utils import data\n",
        "\n",
        "class Dataset(object):\n",
        "  \n",
        "  def __init__(self, list_IDs, labels):\n",
        "    'Initialization'\n",
        "    self.labels = labels\n",
        "    self.list_IDs = list_IDs\n",
        "\n",
        "  def __len__(self):\n",
        "    'Denotes the total number of samples'\n",
        "    return len(self.list_IDs)\n",
        "\n",
        "  def __getitem__(self, index):\n",
        "    'Generates one sample of data'\n",
        "    # Select sample\n",
        "    ID = self.list_IDs[index]\n",
        "\n",
        "    # Load data and get label\n",
        "    X = torch.load('data/' + ID + '.pt')\n",
        "    y = self.labels[ID]\n",
        "\n",
        "    return X, y\n"
      ],
      "execution_count": 0,
      "outputs": []
    },
    {
      "cell_type": "code",
      "metadata": {
        "id": "Y4cZgvOGTvtH",
        "colab_type": "code",
        "colab": {}
      },
      "source": [
        "## Carga de Datos del disco\n",
        "class MRIDataset(object):\n",
        "    \"\"\"MRI dataset.\"\"\"\n",
        "\n",
        "    def __init__(self, csv_file, root_dir, transform=None):\n",
        "        \"\"\"\n",
        "        Args:\n",
        "            csv_file (string): Path to the csv file with annotations.\n",
        "            root_dir (string): Directory with all the images.\n",
        "\n",
        "        \"\"\"\n",
        "        self.labels_frame = pd.read_csv(csv_file)\n",
        "        self.root_dir = root_dir\n",
        "\n",
        "    def __len__(self):\n",
        "        return len(self.labels_frame)\n",
        "\n",
        "    def __getitem__(self, idx):\n",
        "        img_name = os.path.join(self.root_dir, self.labels_frame.ix[idx, 0])\n",
        "        nimg = nib.load(img_name)\n",
        "        image = nimg.get_data()\n",
        "        image = np.nan_to_num(image)\n",
        "        image = nd.interpolation.zoom(image,0.25)\n",
        "        image = torch.from_numpy(image)\n",
        "        image = image.unsqueeze(0)\n",
        "        image = image.unsqueeze(0)\n",
        "        image = image.float()\n",
        "        label = self.labels_frame.ix[idx, 1]\n",
        "        dummy = np.ndarray([1],dtype='float32')\n",
        "        dummy[0]= label\n",
        "        label = torch.from_numpy(dummy)\n",
        "        sample = {'image': image, 'label': label}\n",
        "    \n",
        "        return sample \n"
      ],
      "execution_count": 0,
      "outputs": []
    },
    {
      "cell_type": "code",
      "metadata": {
        "id": "VqblgPVZX75L",
        "colab_type": "code",
        "colab": {}
      },
      "source": [
        "\"\"\"\n",
        "Created on Sun Dec  3 16:22:39 2017\n",
        "Toma las imagenes, elimina numeros menores a 0, luego als rota (np.random.rand()-0.5)*10 \n",
        "y las squizea np.random.rand()-0.5)*5 (esto creo que podriamos considerar eliminarlo) \n",
        "@author: \n",
        "\"\"\"\n",
        "import numpy as np\n",
        "from torch.autograd import Variable\n",
        "from scipy import ndimage as nd\n",
        "import torch\n",
        "class dataugment(object):\n",
        "    \"\"\"Augment MRI dataset.\"\"\"\n",
        "\n",
        "    def __init__(self, inputs, labels):\n",
        "        self.samples = inputs.data\n",
        "        self.labels = labels.data\n",
        "        self.labels_frame = labels\n",
        "    \n",
        "    def __len__(self):\n",
        "        return len(self.labels_frame) \n",
        "    \n",
        "    def __getitem__(self, idx):\n",
        "        image = self.samples[idx,:,:,:]\n",
        "        image = Variable(image)\n",
        "        image = image.data.numpy()\n",
        "           \n",
        "        image[image<0] = 0\n",
        "#        image = image-image[image>0].mean()\n",
        "#        image = image/(image.std()+1e-3)\n",
        "            \n",
        "        image = image.squeeze() \n",
        "        angle = (np.random.rand()-0.5)*10  # 10\n",
        "        image = nd.rotate(image,angle,axes=(0,1),reshape=False)\n",
        "        angle = (np.random.rand()-0.5)*10  # 10\n",
        "        image = nd.rotate(image,angle,axes=(1,2),reshape=False)\n",
        "        rshiftx = (np.random.rand()-0.5)*5 # 3\n",
        "        rshiftx = np.round(rshiftx,0)\n",
        "        rshifty = (np.random.rand()-0.5)*5 # 3\n",
        "        rshifty = np.round(rshifty,0) \n",
        "        rshiftz = (np.random.rand()-0.5)*5 # 3\n",
        "        rshiftz = np.round(rshiftz,0)\n",
        "        image = nd.shift(image,[rshiftx, rshifty, rshiftz])\n",
        "        image = torch.from_numpy(image)\n",
        "        image = image.unsqueeze(0)\n",
        "        label = self.labels[idx]        \n",
        "        sample = {'image': image, 'label': label}\n",
        "        return sample"
      ],
      "execution_count": 0,
      "outputs": []
    }
  ]
}