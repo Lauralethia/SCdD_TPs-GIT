{
 "cells": [
  {
   "cell_type": "code",
   "execution_count": 2,
   "metadata": {
    "collapsed": false
   },
   "outputs": [],
   "source": [
    "dir_to_files = 'C:\\Users\\Fabri\\Documents\\Documentos\\PhD\\Cursos\\SeminarioCienciaDeDatos\\TP1'\n",
    "\n",
    "#set directory \n",
    "import os\n",
    "os.chdir(dir_to_files)"
   ]
  },
  {
   "cell_type": "code",
   "execution_count": null,
   "metadata": {
    "collapsed": false
   },
   "outputs": [],
   "source": [
    "import numpy as np\n",
    "import seaborn as sns\n",
    "import matplotlib.pyplot as plt\n",
    "from  scipy import stats\n",
    "\n",
    "#load file\n",
    "file_name = 'tiempos.txt'\n",
    "\n",
    "raw_data = np.loadtxt(file_name,skiprows=1)"
   ]
  },
  {
   "cell_type": "code",
   "execution_count": null,
   "metadata": {
    "collapsed": false
   },
   "outputs": [],
   "source": [
    "#INSPECCION DE DATOS CRUDOS\n",
    "cond_names=[\"Sol\",\"Nublado\",\"Lluvia\"]   \n",
    "\n",
    "#SEPARADO POR CONDICION\n",
    "f, axarr = plt.subplots(3, 2) \n",
    "for i in range(1,4):\n",
    "    axarr[i-1,0].hist(raw_data[:,i])    \n",
    "    axarr[i-1,1].scatter(raw_data[:,0],raw_data[:,i])\n",
    "    axarr[i-1,0].set_ylabel(cond_names[i-1])\n",
    "    \n",
    "axarr[2,0].set_xlabel('Tiempo')\n",
    "axarr[2,1].set_xlabel('Corredor')    \n",
    "\n",
    "plt.show()"
   ]
  },
  {
   "cell_type": "code",
   "execution_count": null,
   "metadata": {
    "collapsed": false
   },
   "outputs": [],
   "source": [
    "#VISUALIZACIÓN DATOS CRUDOS JUNTOS\n",
    "bins = np.linspace(0, 220, 100)\n",
    "\n",
    "for i in range(1,4): \n",
    "    plt.hist(raw_data[:,i],bins,alpha=0.5, label=cond_names[i-1])\n",
    "\n",
    "plt.xlabel('Tiempo')\n",
    "plt.ylabel('Cuentas') \n",
    "plt.legend(loc='upper right')\n",
    "plt.show()\n",
    "\n",
    "markers = ['o','x','+']\n",
    "\n",
    "for i in range(1,4):     \n",
    "    plt.scatter(raw_data[:,0],raw_data[:,i], label=cond_names[i-1],marker=markers[i-1])\n",
    "\n",
    "\n",
    "plt.xlabel('Corredor')\n",
    "plt.ylabel('Tiempo') \n",
    "plt.legend(loc='upper right')\n",
    "plt.show()\n",
    "\n",
    "print('Por inspección visual se observa que hay un outlier en el caso de lluvia.')"
   ]
  },
  {
   "cell_type": "code",
   "execution_count": null,
   "metadata": {
    "collapsed": false
   },
   "outputs": [],
   "source": [
    "#DETECCIÓN Y ELIMINACION DE OUTLIERS\n",
    "#criterio de exclusión: se eliminarán aquellos valores por arriba o por debajo de dos desvíos estándar de la media de los datos\n",
    "#por condición.\n",
    "\n",
    "data = raw_data.copy()\n",
    "for nr_cond in range(1,4):\n",
    "    data_cond = data[:,nr_cond].copy()\n",
    "    max_threshold = np.mean(data_cond) + 2 * np.std(data_cond)\n",
    "    min_threshold = np.mean(data_cond) - 2 * np.std(data_cond)\n",
    "    data_cond[data[:,nr_cond]>max_threshold] = np.nan\n",
    "    data_cond[data[:,nr_cond]<min_threshold] = np.nan\n",
    "    data[:,nr_cond] = data_cond\n",
    "    \n",
    "print(data)\n",
    "print('Siguiendo este criterio se asigna como nan a un único outlier, que fue observado durante la insepcción.')"
   ]
  },
  {
   "cell_type": "code",
   "execution_count": null,
   "metadata": {
    "collapsed": false
   },
   "outputs": [],
   "source": [
    "#VISUALIZACIÓN DATOS CURADOS, JUNTOS \n",
    "#(a partir de acá se trabajará con los datos curados solamente)\n",
    "bins = np.linspace(0, 25, 10)\n",
    "\n",
    "for i in range(1,4): \n",
    "    plt.hist(data[~np.isnan(data[:,i]),i],bins,alpha=0.5, label=cond_names[i-1])\n",
    "\n",
    "plt.xlabel('Tiempo')\n",
    "plt.ylabel('Cuentas') \n",
    "plt.legend(loc='upper right')\n",
    "plt.show()\n",
    "\n",
    "markers = ['o','x','+']\n",
    "\n",
    "for i in range(1,4):     \n",
    "    plt.scatter(data[~np.isnan(data[:,i]),0],data[~np.isnan(data[:,i]),i], label=cond_names[i-1],marker=markers[i-1])\n",
    "        \n",
    "plt.xlabel('Corredor')\n",
    "plt.ylabel('Tiempo') \n",
    "plt.legend(loc='upper right')\n",
    "plt.show()"
   ]
  },
  {
   "cell_type": "code",
   "execution_count": null,
   "metadata": {
    "collapsed": false
   },
   "outputs": [],
   "source": [
    "#PRUEBAS DE NORMALIDAD E IGUALDAD DE VARIANZA\n",
    "\n",
    "#Para determinar qué tipo de análisis estadísticos se podrán utilizar, realizamos pruebas de normalidad (Shapiro Wilk) \n",
    "#e igualdad de varianza (F-test).\n",
    "\n",
    "#Shapiro-Wilk test de normalidad\n",
    "for i in range(1,4):         \n",
    "    print(cond_names[i-1] + \": p = \" + str(round(stats.shapiro(data[~np.isnan(data[:,i]),i])[0],4)) + \" (Shapiro-Wilk).\")    \n",
    "\n",
    "\n",
    "#TODO CONSULTAR F-test para igualdad de varianzas \n",
    "#mientras Levine test\n",
    "for i1 in range(1,4):\n",
    "    for i2 in range(i1+1,4):\n",
    "        res = stats.levene(data[~np.isnan(data[:,i1]),i1],data[~np.isnan(data[:,i2]),i2],center='mean')\n",
    "        print(cond_names[i1-1] + ' vs ' + cond_names[i2-1] + ': p = ' + str(round(res[1],4)) + ' (Levene Test).')\n",
    "        \n",
    "#El test de Shapiro-Wilk no rechaza la hipótesis de normalidad de los datos para cada condición.\n",
    "#El test Levene indica que la condición de lluvia tiene una varianza significativamente diferente a las de las otras dos \n",
    "#condiciones. \n",
    "#Conclusión: Se podrá utilizar estadística paramétrica teniendo en cuenta la heterogeneidad de varianzas.        "
   ]
  },
  {
   "cell_type": "code",
   "execution_count": null,
   "metadata": {
    "collapsed": true
   },
   "outputs": [],
   "source": [
    "#Abordaje de las preguntas\n",
    "#1) Los Atletas son mas lentos en dias de lluvia que en día soleado\n",
    "#T soleados lluvia, muewstras dep\n",
    "\n",
    "# lluvia < sol (test de una cola) - no paramétrico\n"
   ]
  },
  {
   "cell_type": "code",
   "execution_count": null,
   "metadata": {
    "collapsed": true
   },
   "outputs": [],
   "source": []
  },
  {
   "cell_type": "code",
   "execution_count": null,
   "metadata": {
    "collapsed": true
   },
   "outputs": [],
   "source": []
  },
  {
   "cell_type": "code",
   "execution_count": null,
   "metadata": {
    "collapsed": true
   },
   "outputs": [],
   "source": []
  }
 ],
 "metadata": {
  "kernelspec": {
   "display_name": "Python [Root]",
   "language": "python",
   "name": "Python [Root]"
  },
  "language_info": {
   "codemirror_mode": {
    "name": "ipython",
    "version": 2
   },
   "file_extension": ".py",
   "mimetype": "text/x-python",
   "name": "python",
   "nbconvert_exporter": "python",
   "pygments_lexer": "ipython2",
   "version": "2.7.12"
  }
 },
 "nbformat": 4,
 "nbformat_minor": 2
}
